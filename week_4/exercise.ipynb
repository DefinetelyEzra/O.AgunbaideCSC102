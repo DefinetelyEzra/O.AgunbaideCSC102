{
 "cells": [
  {
   "cell_type": "code",
   "execution_count": 1,
   "id": "90690a7b",
   "metadata": {},
   "outputs": [
    {
     "name": "stdout",
     "output_type": "stream",
     "text": [
      "Enter the name of City 1: Lagos\n",
      "Enter the name of City 2: Kaduna\n",
      "The name of city 1 after swapping is Kaduna \n",
      "The name of city 2 after swapping is Lagos \n"
     ]
    }
   ],
   "source": [
    "# exercise I - Sequence \n",
    "# Python program to swap two cities\n",
    "\n",
    "#To take inputs from user\n",
    "city_1 = input(\"Enter the name of City 1: \")\n",
    "city_2 = input(\"Enter the name of City 2: \")\n",
    "\n",
    "# create a temporary variable and swap the cities\n",
    "temp = city_1\n",
    "city_1 = city_2\n",
    "city_2 = temp\n",
    "\n",
    "print(f\"The name of city 1 after swapping is {city_1} \")\n",
    "print(f\"The name of city 2 after swapping is {city_2} \")"
   ]
  },
  {
   "cell_type": "code",
   "execution_count": 3,
   "id": "c89556dc",
   "metadata": {},
   "outputs": [
    {
     "name": "stdout",
     "output_type": "stream",
     "text": [
      "Enter a number: -1\n",
      "Negative number\n"
     ]
    }
   ],
   "source": [
    "# exercise II - Selection\n",
    "# Program to check if a number is positive, negative or 0\n",
    "\n",
    "num = float(input(\"Enter a number: \"))\n",
    "if num > 0:\n",
    "    print(\"Positive number\")\n",
    "elif num == 0:\n",
    "    print(\"Zero\")\n",
    "else:\n",
    "    print(\"Negative number\")"
   ]
  },
  {
   "cell_type": "code",
   "execution_count": 5,
   "id": "bb6a0788",
   "metadata": {},
   "outputs": [
    {
     "name": "stdout",
     "output_type": "stream",
     "text": [
      "Welcome to the COUPE DE ESCRIVA 2023: FOOTBALL PICKS \n",
      "\n",
      "Madiba:  Chubby Obiora-Okafo \n",
      "Blue-Jays:  Christopher Uweh\n",
      "Cirok: Alexander\n",
      "TSG Walkers:  Ikechukwu\n",
      "\n",
      "\n",
      "Madiba:  Chubby Obiora-Okafo\n",
      "Blue-Jays:  Oladimeji/Jeffery\n",
      "Cirok: Timileyin/Izuako: \n",
      "TSG Walkers:  Ayomide Ojituku\n"
     ]
    }
   ],
   "source": [
    "#exercise III - Repitition\n",
    "#COUPE DE ESCRIVA 2023: FOOTBALL PICKS\n",
    "\n",
    "print(\"Welcome to the COUPE DE ESCRIVA 2023: FOOTBALL PICKS \\n\")\n",
    "\n",
    "captain = {'Madiba: ': 'Chubby Obiora-Okafo ', 'Blue-Jays: ': 'Christopher Uweh',\n",
    "          'Cirok:': 'Alexander', 'TSG Walkers: ': 'Ikechukwu'}\n",
    "\n",
    "goalkeepers = {'Madiba: ': 'Chubby Obiora-Okafo', 'Blue-Jays: ': 'Oladimeji/Jeffery',\n",
    "          'Cirok:': 'Timileyin/Izuako: ', 'TSG Walkers: ': 'Ayomide Ojituku'}\n",
    "\n",
    "for pick in captain:\n",
    "    print(pick, captain[pick])\n",
    "\n",
    "print(\"\\n\")\n",
    "\n",
    "for pick in goalkeepers:\n",
    "    print(pick, goalkeepers[pick])\n"
   ]
  }
 ],
 "metadata": {
  "kernelspec": {
   "display_name": "Python 3 (ipykernel)",
   "language": "python",
   "name": "python3"
  },
  "language_info": {
   "codemirror_mode": {
    "name": "ipython",
    "version": 3
   },
   "file_extension": ".py",
   "mimetype": "text/x-python",
   "name": "python",
   "nbconvert_exporter": "python",
   "pygments_lexer": "ipython3",
   "version": "3.10.9"
  }
 },
 "nbformat": 4,
 "nbformat_minor": 5
}
