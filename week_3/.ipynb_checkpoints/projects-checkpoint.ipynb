{
 "cells": [
  {
   "cell_type": "code",
   "execution_count": 5,
   "id": "2c8f16f3",
   "metadata": {},
   "outputs": [
    {
     "name": "stdout",
     "output_type": "stream",
     "text": [
      "Enter value for a: 2\n",
      "Enter value for b: 2\n",
      "Enter value for c: -1\n",
      "Enter value for d: -3\n",
      "Enter value for x: 1\n",
      "0\n",
      "one is a solution\n"
     ]
    }
   ],
   "source": [
    "#Project one. Program to find roots of a cubic equation\n",
    "\n",
    "a = int(input(\"Enter value for a: \"))\n",
    "b = int(input(\"Enter value for b: \"))\n",
    "c = int(input(\"Enter value for c: \"))\n",
    "d = int(input(\"Enter value for d: \"))\n",
    "\n",
    "x = int(input(\"Enter value for x: \"))\n",
    "\n",
    "ax = (a * (x**3))\n",
    "bx = (b *(x**2))\n",
    "cx = (c * x)\n",
    "\n",
    "cubic = (ax) + (bx) + (cx) + (d)\n",
    "\n",
    "print(cubic)\n",
    "\n",
    "if cubic == 0:\n",
    "    print(\"one is a solution\")\n",
    "\n",
    "elif cubic > 1:\n",
    "    print(\"one is not a solution\")"
   ]
  },
  {
   "cell_type": "code",
   "execution_count": 6,
   "id": "4bf53bd2",
   "metadata": {},
   "outputs": [
    {
     "name": "stdout",
     "output_type": "stream",
     "text": [
      "Please enter value for a: 5\n",
      "Please enter value for b: 2\n",
      "Please enter value for c: -1\n",
      "Please enter value for d: -3\n",
      "Please enter value for e: -3\n",
      "Please enter value for x: 1\n",
      "0\n",
      "one is a solution\n"
     ]
    }
   ],
   "source": [
    "#Project two. Program to find roots of a quartic equation\n",
    "\n",
    "a = int(input(\"Please enter value for a: \"))\n",
    "b = int(input(\"Please enter value for b: \"))\n",
    "c = int(input(\"Please enter value for c: \"))\n",
    "d = int(input(\"Please enter value for d: \"))\n",
    "e = int(input(\"Please enter value for e: \"))\n",
    "\n",
    "x = int(input(\"Please enter value for x: \"))\n",
    "\n",
    "ax = (a * (x**4))\n",
    "bx = (b *(x**3))\n",
    "cx = (c * (x**2))\n",
    "dx = (d * x)\n",
    "\n",
    "quartic = (ax) + (bx) + (cx) + (dx) + e\n",
    "\n",
    "print(quartic)\n",
    "\n",
    "if quartic == 0:\n",
    "    print(\"one is a solution\")\n",
    "\n",
    "elif cubic > 1:\n",
    "    print(\"one is not a solution\")"
   ]
  }
 ],
 "metadata": {
  "kernelspec": {
   "display_name": "Python 3 (ipykernel)",
   "language": "python",
   "name": "python3"
  },
  "language_info": {
   "codemirror_mode": {
    "name": "ipython",
    "version": 3
   },
   "file_extension": ".py",
   "mimetype": "text/x-python",
   "name": "python",
   "nbconvert_exporter": "python",
   "pygments_lexer": "ipython3",
   "version": "3.10.9"
  }
 },
 "nbformat": 4,
 "nbformat_minor": 5
}
