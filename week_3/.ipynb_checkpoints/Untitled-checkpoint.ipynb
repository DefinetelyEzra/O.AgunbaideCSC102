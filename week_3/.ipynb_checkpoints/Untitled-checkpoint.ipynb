{
 "cells": [
  {
   "cell_type": "code",
   "execution_count": 4,
   "id": "0292ff35",
   "metadata": {},
   "outputs": [
    {
     "name": "stdout",
     "output_type": "stream",
     "text": [
      "Enter value for a: 2\n",
      "Enter value for b: 2\n",
      "Enter value for c: -1\n",
      "Enter value for d: -3\n",
      "Enter value for x: 1\n",
      "8\n",
      "one is not a solution\n"
     ]
    }
   ],
   "source": [
    "a = int(input(\"Enter value for a: \"))\n",
    "b = int(input(\"Enter value for b: \"))\n",
    "c = int(input(\"Enter value for c: \"))\n",
    "d = int(input(\"Enter value for d: \"))\n",
    "\n",
    "x = int(input(\"Enter value for x: \"))\n",
    "\n",
    "ax = (a * (x**3))\n",
    "bx = (b *(x**2))\n",
    "cx = (c * x)\n",
    "\n",
    "cubic = (ax) + (bx) + (cx) + (d)\n",
    "\n",
    "print(cubic)\n",
    "\n",
    "if cubic == 0:\n",
    "    print(\"one is a solution\")\n",
    "\n",
    "elif cubic > 1:\n",
    "    print(\"one is not a solution\")"
   ]
  },
  {
   "cell_type": "code",
   "execution_count": null,
   "id": "c4d602d5",
   "metadata": {},
   "outputs": [],
   "source": []
  },
  {
   "cell_type": "code",
   "execution_count": null,
   "id": "866a1cb0",
   "metadata": {},
   "outputs": [],
   "source": []
  }
 ],
 "metadata": {
  "kernelspec": {
   "display_name": "Python 3 (ipykernel)",
   "language": "python",
   "name": "python3"
  },
  "language_info": {
   "codemirror_mode": {
    "name": "ipython",
    "version": 3
   },
   "file_extension": ".py",
   "mimetype": "text/x-python",
   "name": "python",
   "nbconvert_exporter": "python",
   "pygments_lexer": "ipython3",
   "version": "3.10.9"
  }
 },
 "nbformat": 4,
 "nbformat_minor": 5
}
